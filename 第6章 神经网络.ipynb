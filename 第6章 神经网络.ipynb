{
 "cells": [
  {
   "cell_type": "code",
   "execution_count": 1,
   "metadata": {},
   "outputs": [],
   "source": [
    "import tensorflow as tf\n",
    "x=tf.random.normal([2,784])\n",
    "w1=tf.Variable(tf.random.truncated_normal([784,256],stddev=0.1))\n",
    "b1=tf.Variable(tf.zeros([256]))\n",
    "o1=tf.matmul(x,w1)+b1\n",
    "o1=tf.nn.relu(o1)"
   ]
  },
  {
   "cell_type": "code",
   "execution_count": 2,
   "metadata": {},
   "outputs": [
    {
     "data": {
      "text/plain": [
       "<tf.Tensor: id=32, shape=(2, 256), dtype=float32, numpy=\n",
       "array([[2.4008474e+00, 0.0000000e+00, 1.0533967e+00, 1.9050387e+00,\n",
       "        0.0000000e+00, 0.0000000e+00, 0.0000000e+00, 0.0000000e+00,\n",
       "        2.4285345e+00, 0.0000000e+00, 4.9165887e-01, 6.4184964e-01,\n",
       "        0.0000000e+00, 4.4998617e+00, 0.0000000e+00, 2.5313141e+00,\n",
       "        0.0000000e+00, 0.0000000e+00, 7.2445500e-01, 1.9040405e+00,\n",
       "        0.0000000e+00, 8.1945801e-01, 3.1571443e+00, 0.0000000e+00,\n",
       "        0.0000000e+00, 1.3974783e+00, 2.1436937e+00, 0.0000000e+00,\n",
       "        1.8838941e+00, 1.1058155e+00, 0.0000000e+00, 4.5909411e-01,\n",
       "        4.1159444e+00, 0.0000000e+00, 8.8439834e-01, 5.6431584e+00,\n",
       "        0.0000000e+00, 0.0000000e+00, 0.0000000e+00, 0.0000000e+00,\n",
       "        0.0000000e+00, 2.9641042e+00, 2.4850104e+00, 0.0000000e+00,\n",
       "        0.0000000e+00, 0.0000000e+00, 0.0000000e+00, 2.9998331e+00,\n",
       "        2.8214192e+00, 0.0000000e+00, 7.1735066e-01, 5.7817742e-02,\n",
       "        0.0000000e+00, 0.0000000e+00, 1.9933025e+00, 2.8085108e+00,\n",
       "        3.1636551e-01, 2.4335077e-01, 1.9363781e+00, 8.8003808e-01,\n",
       "        3.6222847e+00, 2.1286848e+00, 0.0000000e+00, 0.0000000e+00,\n",
       "        8.9223340e-02, 1.2090735e+00, 3.1966360e+00, 0.0000000e+00,\n",
       "        1.5875236e+00, 7.7773464e-01, 3.5169756e+00, 7.3098999e-01,\n",
       "        0.0000000e+00, 0.0000000e+00, 4.3458378e-01, 3.6391995e+00,\n",
       "        0.0000000e+00, 2.6355729e+00, 0.0000000e+00, 0.0000000e+00,\n",
       "        1.0402436e+00, 4.0065680e+00, 0.0000000e+00, 7.1250802e-01,\n",
       "        1.1335422e+00, 1.1843352e+00, 5.5287588e-01, 7.5957298e-01,\n",
       "        0.0000000e+00, 0.0000000e+00, 0.0000000e+00, 0.0000000e+00,\n",
       "        0.0000000e+00, 1.4422917e+00, 0.0000000e+00, 0.0000000e+00,\n",
       "        0.0000000e+00, 0.0000000e+00, 0.0000000e+00, 0.0000000e+00,\n",
       "        0.0000000e+00, 1.4680741e+00, 0.0000000e+00, 2.3133705e+00,\n",
       "        3.6948557e+00, 0.0000000e+00, 0.0000000e+00, 0.0000000e+00,\n",
       "        0.0000000e+00, 3.9780161e+00, 3.3316441e+00, 5.1798563e+00,\n",
       "        0.0000000e+00, 1.6814135e-01, 0.0000000e+00, 0.0000000e+00,\n",
       "        2.2677054e+00, 2.9102114e-01, 6.7233562e-01, 1.5446209e+00,\n",
       "        0.0000000e+00, 2.6984912e-01, 1.7014009e+00, 0.0000000e+00,\n",
       "        2.6117454e+00, 0.0000000e+00, 0.0000000e+00, 0.0000000e+00,\n",
       "        0.0000000e+00, 1.9222943e-01, 2.9484777e+00, 1.3739370e+00,\n",
       "        0.0000000e+00, 1.2068120e+00, 0.0000000e+00, 1.9615806e+00,\n",
       "        0.0000000e+00, 0.0000000e+00, 4.4239122e-01, 2.9968827e+00,\n",
       "        2.6424820e+00, 1.7246796e+00, 0.0000000e+00, 0.0000000e+00,\n",
       "        1.4532335e+00, 0.0000000e+00, 0.0000000e+00, 0.0000000e+00,\n",
       "        1.2776870e+00, 3.5535046e-01, 0.0000000e+00, 4.7219527e-01,\n",
       "        0.0000000e+00, 3.2717662e+00, 0.0000000e+00, 0.0000000e+00,\n",
       "        2.2868819e+00, 1.2861307e+00, 0.0000000e+00, 0.0000000e+00,\n",
       "        0.0000000e+00, 3.0322285e+00, 0.0000000e+00, 2.2175758e-01,\n",
       "        7.4592447e-01, 0.0000000e+00, 9.8794240e-01, 7.0871186e-01,\n",
       "        0.0000000e+00, 2.2706552e+00, 0.0000000e+00, 0.0000000e+00,\n",
       "        0.0000000e+00, 0.0000000e+00, 0.0000000e+00, 0.0000000e+00,\n",
       "        0.0000000e+00, 3.0335412e+00, 2.2249537e+00, 2.9231008e-02,\n",
       "        2.3195362e+00, 1.0637267e+00, 0.0000000e+00, 0.0000000e+00,\n",
       "        0.0000000e+00, 0.0000000e+00, 4.3800735e+00, 0.0000000e+00,\n",
       "        1.4960828e+00, 0.0000000e+00, 0.0000000e+00, 2.7273583e+00,\n",
       "        5.2791283e-02, 5.0125217e+00, 3.3162093e+00, 0.0000000e+00,\n",
       "        1.4411440e+00, 0.0000000e+00, 0.0000000e+00, 0.0000000e+00,\n",
       "        0.0000000e+00, 0.0000000e+00, 0.0000000e+00, 0.0000000e+00,\n",
       "        3.0723143e-01, 2.1775656e+00, 1.9333692e+00, 1.6285971e-01,\n",
       "        3.3109443e+00, 2.8759301e+00, 2.3214624e+00, 0.0000000e+00,\n",
       "        0.0000000e+00, 1.2456944e+00, 3.0213349e+00, 1.7797654e+00,\n",
       "        0.0000000e+00, 0.0000000e+00, 0.0000000e+00, 0.0000000e+00,\n",
       "        0.0000000e+00, 6.1152911e+00, 0.0000000e+00, 2.6704891e+00,\n",
       "        7.6337373e-01, 7.4805522e-01, 2.1540616e+00, 0.0000000e+00,\n",
       "        4.7214988e-01, 1.7827873e-01, 0.0000000e+00, 0.0000000e+00,\n",
       "        0.0000000e+00, 0.0000000e+00, 4.7868812e-01, 3.6015329e-01,\n",
       "        9.9267060e-01, 0.0000000e+00, 8.3130252e-01, 3.0781565e+00,\n",
       "        3.0158095e+00, 0.0000000e+00, 6.6350681e-01, 0.0000000e+00,\n",
       "        0.0000000e+00, 0.0000000e+00, 1.0490080e+00, 0.0000000e+00,\n",
       "        0.0000000e+00, 0.0000000e+00, 0.0000000e+00, 0.0000000e+00,\n",
       "        0.0000000e+00, 1.0828286e+00, 9.3725556e-01, 0.0000000e+00],\n",
       "       [0.0000000e+00, 0.0000000e+00, 2.0625248e+00, 0.0000000e+00,\n",
       "        4.6016461e-01, 3.7361710e+00, 0.0000000e+00, 4.1961092e-01,\n",
       "        2.5573838e-01, 0.0000000e+00, 0.0000000e+00, 1.8222244e-01,\n",
       "        1.6482289e+00, 2.2755144e+00, 1.0943627e+00, 0.0000000e+00,\n",
       "        0.0000000e+00, 1.3522801e+00, 0.0000000e+00, 0.0000000e+00,\n",
       "        0.0000000e+00, 1.8837726e+00, 0.0000000e+00, 3.2100973e+00,\n",
       "        0.0000000e+00, 1.5711052e+00, 1.7065734e-01, 2.0577960e+00,\n",
       "        3.3458507e+00, 0.0000000e+00, 2.5021935e-01, 8.5107654e-01,\n",
       "        1.0531953e-01, 0.0000000e+00, 0.0000000e+00, 4.6137180e+00,\n",
       "        0.0000000e+00, 0.0000000e+00, 2.5994039e+00, 0.0000000e+00,\n",
       "        1.0148529e-01, 3.0375916e-01, 4.6523433e+00, 0.0000000e+00,\n",
       "        0.0000000e+00, 5.5407882e-03, 0.0000000e+00, 0.0000000e+00,\n",
       "        0.0000000e+00, 0.0000000e+00, 0.0000000e+00, 0.0000000e+00,\n",
       "        4.1787891e+00, 0.0000000e+00, 2.4930322e-01, 3.2241958e-01,\n",
       "        8.8477665e-01, 4.9435010e+00, 7.0159423e-01, 0.0000000e+00,\n",
       "        2.0533288e+00, 0.0000000e+00, 0.0000000e+00, 1.7621741e+00,\n",
       "        4.6104946e+00, 0.0000000e+00, 0.0000000e+00, 0.0000000e+00,\n",
       "        2.0523636e+00, 0.0000000e+00, 3.0610135e+00, 0.0000000e+00,\n",
       "        5.4856296e+00, 6.1438435e-01, 3.6117060e+00, 0.0000000e+00,\n",
       "        4.0281696e+00, 3.1163436e-01, 0.0000000e+00, 0.0000000e+00,\n",
       "        0.0000000e+00, 3.9078560e+00, 5.7633597e-01, 1.0112230e+00,\n",
       "        0.0000000e+00, 3.0355377e+00, 8.1591797e-01, 0.0000000e+00,\n",
       "        3.4880140e+00, 3.2893455e+00, 0.0000000e+00, 0.0000000e+00,\n",
       "        0.0000000e+00, 0.0000000e+00, 0.0000000e+00, 6.6540718e-02,\n",
       "        0.0000000e+00, 0.0000000e+00, 0.0000000e+00, 0.0000000e+00,\n",
       "        0.0000000e+00, 5.5498004e+00, 1.9596642e-01, 1.9353981e+00,\n",
       "        0.0000000e+00, 4.2467194e+00, 5.8024824e-01, 0.0000000e+00,\n",
       "        2.6871219e+00, 0.0000000e+00, 0.0000000e+00, 2.4984660e+00,\n",
       "        0.0000000e+00, 0.0000000e+00, 0.0000000e+00, 0.0000000e+00,\n",
       "        2.8670003e+00, 5.9095488e+00, 1.8811148e+00, 2.0639014e+00,\n",
       "        2.0600679e+00, 0.0000000e+00, 4.0051236e+00, 2.5075793e+00,\n",
       "        0.0000000e+00, 2.3070900e-01, 0.0000000e+00, 1.3735518e-01,\n",
       "        0.0000000e+00, 0.0000000e+00, 0.0000000e+00, 0.0000000e+00,\n",
       "        3.4435740e-01, 2.8935170e+00, 1.8685967e-02, 5.0022054e+00,\n",
       "        8.8555473e-01, 0.0000000e+00, 5.1302667e+00, 1.9981048e+00,\n",
       "        9.2966163e-01, 0.0000000e+00, 0.0000000e+00, 3.0498693e+00,\n",
       "        0.0000000e+00, 0.0000000e+00, 4.6799436e+00, 8.6897445e-01,\n",
       "        2.8803825e+00, 2.6590064e+00, 4.4440908e+00, 0.0000000e+00,\n",
       "        2.4045556e+00, 0.0000000e+00, 0.0000000e+00, 1.5267047e+00,\n",
       "        4.0209198e+00, 7.5649184e-01, 3.0247238e+00, 1.4798630e+00,\n",
       "        1.4922626e+00, 0.0000000e+00, 3.2502294e-02, 0.0000000e+00,\n",
       "        5.6557775e-01, 2.8559427e+00, 3.2797189e+00, 0.0000000e+00,\n",
       "        2.6030079e-01, 3.5900393e+00, 2.3036840e+00, 4.3560120e-01,\n",
       "        0.0000000e+00, 0.0000000e+00, 0.0000000e+00, 0.0000000e+00,\n",
       "        0.0000000e+00, 2.3228357e+00, 1.6836303e+00, 3.6614078e-01,\n",
       "        3.9765319e-01, 0.0000000e+00, 1.9959075e+00, 0.0000000e+00,\n",
       "        0.0000000e+00, 0.0000000e+00, 0.0000000e+00, 0.0000000e+00,\n",
       "        0.0000000e+00, 6.1934290e+00, 0.0000000e+00, 2.1776237e+00,\n",
       "        0.0000000e+00, 1.0055857e+00, 8.7530649e-01, 0.0000000e+00,\n",
       "        2.1008768e+00, 0.0000000e+00, 0.0000000e+00, 0.0000000e+00,\n",
       "        0.0000000e+00, 0.0000000e+00, 3.2507074e+00, 0.0000000e+00,\n",
       "        2.9827926e+00, 2.7333505e+00, 1.5667889e+00, 6.4180785e-01,\n",
       "        1.3519068e+00, 0.0000000e+00, 1.1274921e+00, 9.2432308e-01,\n",
       "        3.6486037e+00, 0.0000000e+00, 3.1710279e+00, 0.0000000e+00,\n",
       "        0.0000000e+00, 3.4848661e+00, 0.0000000e+00, 2.0057707e+00,\n",
       "        0.0000000e+00, 3.7662535e+00, 0.0000000e+00, 0.0000000e+00,\n",
       "        2.5945432e+00, 0.0000000e+00, 0.0000000e+00, 0.0000000e+00,\n",
       "        1.1670241e+00, 2.1542041e+00, 1.3007051e+00, 4.5774994e+00,\n",
       "        0.0000000e+00, 0.0000000e+00, 1.9755960e-04, 0.0000000e+00,\n",
       "        0.0000000e+00, 4.8562071e-01, 0.0000000e+00, 0.0000000e+00,\n",
       "        1.5409702e+00, 0.0000000e+00, 7.0414174e-01, 1.0668108e+00,\n",
       "        1.6180916e+00, 4.2406788e-01, 2.8450713e+00, 7.0745146e-01,\n",
       "        0.0000000e+00, 5.6672201e+00, 1.8543616e-01, 3.0128515e+00,\n",
       "        1.9923896e-01, 0.0000000e+00, 0.0000000e+00, 0.0000000e+00]],\n",
       "      dtype=float32)>"
      ]
     },
     "execution_count": 2,
     "metadata": {},
     "output_type": "execute_result"
    }
   ],
   "source": [
    "o1"
   ]
  },
  {
   "cell_type": "code",
   "execution_count": 3,
   "metadata": {},
   "outputs": [
    {
     "name": "stderr",
     "output_type": "stream",
     "text": [
      "Using TensorFlow backend.\n"
     ]
    }
   ],
   "source": [
    "x=tf.random.normal([4,28*28])\n",
    "from tensorflow.keras import layers\n",
    "fc=layers.Dense(512,activation=tf.nn.relu)\n",
    "h1=fc(x)\n",
    "import keras"
   ]
  },
  {
   "cell_type": "code",
   "execution_count": 4,
   "metadata": {},
   "outputs": [],
   "source": [
    "import pandas as pd\n",
    "\n",
    "# 在线下载汽车效能数据集\n",
    "dataset_path = keras.utils.get_file(\"auto-mpg.data\", \"http://archive.ics.uci.edu/ml/machine-learning-databases/auto-mpg/auto-mpg.data\")\n",
    "#利用pandas读取数据集，字段有效能（公里数每加仑），气缸数，排量，马力，重量# 加速度，型号年份，产地\n",
    "column_names = ['MPG','Cylinders','Displacement','Horsepower','Weight','Acceleration', 'Model Year', 'Origin']\n",
    "raw_dataset = pd.read_csv(dataset_path, names=column_names,na_values = \"?\", comment='\\t',sep=\" \", skipinitialspace=True)\n",
    "dataset = raw_dataset.copy()\n",
    "# 查看部分数据dataset.head()原始数据中的数据可能含有空字段(缺失值)的数据项，需要清除这些记录项：\n",
    "dataset.isna().sum()# 统计空白数据\n",
    "dataset = dataset.dropna()# 删除空白数据项\n",
    "dataset.isna().sum()# 再次统计空白数据清除后，数据集记录项减为392项。由于Origin字段为类别数据，我们将其移动出来，并转换为新的3个字段：USA，Europe和Japan，分别代表是否来自此产地：# 处理类别型数据，其中origin列代表了类别1,2,3,分布代表产地：美国、欧洲、日本# 先弹出(删除并返回)origin这一列\n",
    "origin = dataset.pop('Origin')# 根据origin列来写入新的3个列\n",
    "dataset['USA'] = (origin == 1)*1.0\n",
    "dataset['Europe'] = (origin == 2)*1.0\n",
    "dataset['Japan'] = (origin == 3)*1.0\n",
    "dataset.tail()#按着8:2的比例切分训练集和测试集：# 切分为训练集和测试集\n",
    "train_dataset = dataset.sample(frac=0.8,random_state=0)\n"
   ]
  },
  {
   "cell_type": "code",
   "execution_count": 5,
   "metadata": {},
   "outputs": [
    {
     "ename": "KeyError",
     "evalue": "'MPG'",
     "output_type": "error",
     "traceback": [
      "\u001b[1;31m---------------------------------------------------------------------------\u001b[0m",
      "\u001b[1;31mKeyError\u001b[0m                                  Traceback (most recent call last)",
      "\u001b[1;32mD:\\anaconda\\lib\\site-packages\\pandas\\core\\indexes\\base.py\u001b[0m in \u001b[0;36mget_loc\u001b[1;34m(self, key, method, tolerance)\u001b[0m\n\u001b[0;32m   3062\u001b[0m             \u001b[1;32mtry\u001b[0m\u001b[1;33m:\u001b[0m\u001b[1;33m\u001b[0m\u001b[0m\n\u001b[1;32m-> 3063\u001b[1;33m                 \u001b[1;32mreturn\u001b[0m \u001b[0mself\u001b[0m\u001b[1;33m.\u001b[0m\u001b[0m_engine\u001b[0m\u001b[1;33m.\u001b[0m\u001b[0mget_loc\u001b[0m\u001b[1;33m(\u001b[0m\u001b[0mkey\u001b[0m\u001b[1;33m)\u001b[0m\u001b[1;33m\u001b[0m\u001b[0m\n\u001b[0m\u001b[0;32m   3064\u001b[0m             \u001b[1;32mexcept\u001b[0m \u001b[0mKeyError\u001b[0m\u001b[1;33m:\u001b[0m\u001b[1;33m\u001b[0m\u001b[0m\n",
      "\u001b[1;32mpandas\\_libs\\index.pyx\u001b[0m in \u001b[0;36mpandas._libs.index.IndexEngine.get_loc\u001b[1;34m()\u001b[0m\n",
      "\u001b[1;32mpandas\\_libs\\index.pyx\u001b[0m in \u001b[0;36mpandas._libs.index.IndexEngine.get_loc\u001b[1;34m()\u001b[0m\n",
      "\u001b[1;32mpandas\\_libs\\hashtable_class_helper.pxi\u001b[0m in \u001b[0;36mpandas._libs.hashtable.PyObjectHashTable.get_item\u001b[1;34m()\u001b[0m\n",
      "\u001b[1;32mpandas\\_libs\\hashtable_class_helper.pxi\u001b[0m in \u001b[0;36mpandas._libs.hashtable.PyObjectHashTable.get_item\u001b[1;34m()\u001b[0m\n",
      "\u001b[1;31mKeyError\u001b[0m: 'MPG'",
      "\nDuring handling of the above exception, another exception occurred:\n",
      "\u001b[1;31mKeyError\u001b[0m                                  Traceback (most recent call last)",
      "\u001b[1;32m<ipython-input-5-9c864f96b2bf>\u001b[0m in \u001b[0;36m<module>\u001b[1;34m()\u001b[0m\n\u001b[0;32m      4\u001b[0m \u001b[0mtest_labels\u001b[0m \u001b[1;33m=\u001b[0m \u001b[0mtest_dataset\u001b[0m\u001b[1;33m.\u001b[0m\u001b[0mpop\u001b[0m\u001b[1;33m(\u001b[0m\u001b[1;34m'MPG'\u001b[0m\u001b[1;33m)\u001b[0m\u001b[1;31m#统计训练集的各个字段数值的均值和标准差，并完成数据的标准化：# 查看训练集的输入X的统计数据\u001b[0m\u001b[1;33m\u001b[0m\u001b[0m\n\u001b[0;32m      5\u001b[0m \u001b[0mtrain_stats\u001b[0m \u001b[1;33m=\u001b[0m \u001b[0mtrain_dataset\u001b[0m\u001b[1;33m.\u001b[0m\u001b[0mdescribe\u001b[0m\u001b[1;33m(\u001b[0m\u001b[1;33m)\u001b[0m\u001b[1;33m\u001b[0m\u001b[0m\n\u001b[1;32m----> 6\u001b[1;33m \u001b[0mtrain_stats\u001b[0m\u001b[1;33m.\u001b[0m\u001b[0mpop\u001b[0m\u001b[1;33m(\u001b[0m\u001b[1;34m\"MPG\"\u001b[0m\u001b[1;33m)\u001b[0m\u001b[1;33m\u001b[0m\u001b[0m\n\u001b[0m\u001b[0;32m      7\u001b[0m \u001b[0mtrain_stats\u001b[0m \u001b[1;33m=\u001b[0m \u001b[0mtrain_stats\u001b[0m\u001b[1;33m.\u001b[0m\u001b[0mtranspose\u001b[0m\u001b[1;33m(\u001b[0m\u001b[1;33m)\u001b[0m\u001b[1;33m\u001b[0m\u001b[0m\n\u001b[0;32m      8\u001b[0m \u001b[1;31m# 标准化数据\u001b[0m\u001b[1;33m\u001b[0m\u001b[1;33m\u001b[0m\u001b[0m\n",
      "\u001b[1;32mD:\\anaconda\\lib\\site-packages\\pandas\\core\\generic.py\u001b[0m in \u001b[0;36mpop\u001b[1;34m(self, item)\u001b[0m\n\u001b[0;32m    757\u001b[0m         \u001b[1;36m3\u001b[0m  \u001b[0mmonkey\u001b[0m        \u001b[0mNaN\u001b[0m\u001b[1;33m\u001b[0m\u001b[0m\n\u001b[0;32m    758\u001b[0m         \"\"\"\n\u001b[1;32m--> 759\u001b[1;33m         \u001b[0mresult\u001b[0m \u001b[1;33m=\u001b[0m \u001b[0mself\u001b[0m\u001b[1;33m[\u001b[0m\u001b[0mitem\u001b[0m\u001b[1;33m]\u001b[0m\u001b[1;33m\u001b[0m\u001b[0m\n\u001b[0m\u001b[0;32m    760\u001b[0m         \u001b[1;32mdel\u001b[0m \u001b[0mself\u001b[0m\u001b[1;33m[\u001b[0m\u001b[0mitem\u001b[0m\u001b[1;33m]\u001b[0m\u001b[1;33m\u001b[0m\u001b[0m\n\u001b[0;32m    761\u001b[0m         \u001b[1;32mtry\u001b[0m\u001b[1;33m:\u001b[0m\u001b[1;33m\u001b[0m\u001b[0m\n",
      "\u001b[1;32mD:\\anaconda\\lib\\site-packages\\pandas\\core\\frame.py\u001b[0m in \u001b[0;36m__getitem__\u001b[1;34m(self, key)\u001b[0m\n\u001b[0;32m   2683\u001b[0m             \u001b[1;32mreturn\u001b[0m \u001b[0mself\u001b[0m\u001b[1;33m.\u001b[0m\u001b[0m_getitem_multilevel\u001b[0m\u001b[1;33m(\u001b[0m\u001b[0mkey\u001b[0m\u001b[1;33m)\u001b[0m\u001b[1;33m\u001b[0m\u001b[0m\n\u001b[0;32m   2684\u001b[0m         \u001b[1;32melse\u001b[0m\u001b[1;33m:\u001b[0m\u001b[1;33m\u001b[0m\u001b[0m\n\u001b[1;32m-> 2685\u001b[1;33m             \u001b[1;32mreturn\u001b[0m \u001b[0mself\u001b[0m\u001b[1;33m.\u001b[0m\u001b[0m_getitem_column\u001b[0m\u001b[1;33m(\u001b[0m\u001b[0mkey\u001b[0m\u001b[1;33m)\u001b[0m\u001b[1;33m\u001b[0m\u001b[0m\n\u001b[0m\u001b[0;32m   2686\u001b[0m \u001b[1;33m\u001b[0m\u001b[0m\n\u001b[0;32m   2687\u001b[0m     \u001b[1;32mdef\u001b[0m \u001b[0m_getitem_column\u001b[0m\u001b[1;33m(\u001b[0m\u001b[0mself\u001b[0m\u001b[1;33m,\u001b[0m \u001b[0mkey\u001b[0m\u001b[1;33m)\u001b[0m\u001b[1;33m:\u001b[0m\u001b[1;33m\u001b[0m\u001b[0m\n",
      "\u001b[1;32mD:\\anaconda\\lib\\site-packages\\pandas\\core\\frame.py\u001b[0m in \u001b[0;36m_getitem_column\u001b[1;34m(self, key)\u001b[0m\n\u001b[0;32m   2690\u001b[0m         \u001b[1;31m# get column\u001b[0m\u001b[1;33m\u001b[0m\u001b[1;33m\u001b[0m\u001b[0m\n\u001b[0;32m   2691\u001b[0m         \u001b[1;32mif\u001b[0m \u001b[0mself\u001b[0m\u001b[1;33m.\u001b[0m\u001b[0mcolumns\u001b[0m\u001b[1;33m.\u001b[0m\u001b[0mis_unique\u001b[0m\u001b[1;33m:\u001b[0m\u001b[1;33m\u001b[0m\u001b[0m\n\u001b[1;32m-> 2692\u001b[1;33m             \u001b[1;32mreturn\u001b[0m \u001b[0mself\u001b[0m\u001b[1;33m.\u001b[0m\u001b[0m_get_item_cache\u001b[0m\u001b[1;33m(\u001b[0m\u001b[0mkey\u001b[0m\u001b[1;33m)\u001b[0m\u001b[1;33m\u001b[0m\u001b[0m\n\u001b[0m\u001b[0;32m   2693\u001b[0m \u001b[1;33m\u001b[0m\u001b[0m\n\u001b[0;32m   2694\u001b[0m         \u001b[1;31m# duplicate columns & possible reduce dimensionality\u001b[0m\u001b[1;33m\u001b[0m\u001b[1;33m\u001b[0m\u001b[0m\n",
      "\u001b[1;32mD:\\anaconda\\lib\\site-packages\\pandas\\core\\generic.py\u001b[0m in \u001b[0;36m_get_item_cache\u001b[1;34m(self, item)\u001b[0m\n\u001b[0;32m   2484\u001b[0m         \u001b[0mres\u001b[0m \u001b[1;33m=\u001b[0m \u001b[0mcache\u001b[0m\u001b[1;33m.\u001b[0m\u001b[0mget\u001b[0m\u001b[1;33m(\u001b[0m\u001b[0mitem\u001b[0m\u001b[1;33m)\u001b[0m\u001b[1;33m\u001b[0m\u001b[0m\n\u001b[0;32m   2485\u001b[0m         \u001b[1;32mif\u001b[0m \u001b[0mres\u001b[0m \u001b[1;32mis\u001b[0m \u001b[1;32mNone\u001b[0m\u001b[1;33m:\u001b[0m\u001b[1;33m\u001b[0m\u001b[0m\n\u001b[1;32m-> 2486\u001b[1;33m             \u001b[0mvalues\u001b[0m \u001b[1;33m=\u001b[0m \u001b[0mself\u001b[0m\u001b[1;33m.\u001b[0m\u001b[0m_data\u001b[0m\u001b[1;33m.\u001b[0m\u001b[0mget\u001b[0m\u001b[1;33m(\u001b[0m\u001b[0mitem\u001b[0m\u001b[1;33m)\u001b[0m\u001b[1;33m\u001b[0m\u001b[0m\n\u001b[0m\u001b[0;32m   2487\u001b[0m             \u001b[0mres\u001b[0m \u001b[1;33m=\u001b[0m \u001b[0mself\u001b[0m\u001b[1;33m.\u001b[0m\u001b[0m_box_item_values\u001b[0m\u001b[1;33m(\u001b[0m\u001b[0mitem\u001b[0m\u001b[1;33m,\u001b[0m \u001b[0mvalues\u001b[0m\u001b[1;33m)\u001b[0m\u001b[1;33m\u001b[0m\u001b[0m\n\u001b[0;32m   2488\u001b[0m             \u001b[0mcache\u001b[0m\u001b[1;33m[\u001b[0m\u001b[0mitem\u001b[0m\u001b[1;33m]\u001b[0m \u001b[1;33m=\u001b[0m \u001b[0mres\u001b[0m\u001b[1;33m\u001b[0m\u001b[0m\n",
      "\u001b[1;32mD:\\anaconda\\lib\\site-packages\\pandas\\core\\internals.py\u001b[0m in \u001b[0;36mget\u001b[1;34m(self, item, fastpath)\u001b[0m\n\u001b[0;32m   4113\u001b[0m \u001b[1;33m\u001b[0m\u001b[0m\n\u001b[0;32m   4114\u001b[0m             \u001b[1;32mif\u001b[0m \u001b[1;32mnot\u001b[0m \u001b[0misna\u001b[0m\u001b[1;33m(\u001b[0m\u001b[0mitem\u001b[0m\u001b[1;33m)\u001b[0m\u001b[1;33m:\u001b[0m\u001b[1;33m\u001b[0m\u001b[0m\n\u001b[1;32m-> 4115\u001b[1;33m                 \u001b[0mloc\u001b[0m \u001b[1;33m=\u001b[0m \u001b[0mself\u001b[0m\u001b[1;33m.\u001b[0m\u001b[0mitems\u001b[0m\u001b[1;33m.\u001b[0m\u001b[0mget_loc\u001b[0m\u001b[1;33m(\u001b[0m\u001b[0mitem\u001b[0m\u001b[1;33m)\u001b[0m\u001b[1;33m\u001b[0m\u001b[0m\n\u001b[0m\u001b[0;32m   4116\u001b[0m             \u001b[1;32melse\u001b[0m\u001b[1;33m:\u001b[0m\u001b[1;33m\u001b[0m\u001b[0m\n\u001b[0;32m   4117\u001b[0m                 \u001b[0mindexer\u001b[0m \u001b[1;33m=\u001b[0m \u001b[0mnp\u001b[0m\u001b[1;33m.\u001b[0m\u001b[0marange\u001b[0m\u001b[1;33m(\u001b[0m\u001b[0mlen\u001b[0m\u001b[1;33m(\u001b[0m\u001b[0mself\u001b[0m\u001b[1;33m.\u001b[0m\u001b[0mitems\u001b[0m\u001b[1;33m)\u001b[0m\u001b[1;33m)\u001b[0m\u001b[1;33m[\u001b[0m\u001b[0misna\u001b[0m\u001b[1;33m(\u001b[0m\u001b[0mself\u001b[0m\u001b[1;33m.\u001b[0m\u001b[0mitems\u001b[0m\u001b[1;33m)\u001b[0m\u001b[1;33m]\u001b[0m\u001b[1;33m\u001b[0m\u001b[0m\n",
      "\u001b[1;32mD:\\anaconda\\lib\\site-packages\\pandas\\core\\indexes\\base.py\u001b[0m in \u001b[0;36mget_loc\u001b[1;34m(self, key, method, tolerance)\u001b[0m\n\u001b[0;32m   3063\u001b[0m                 \u001b[1;32mreturn\u001b[0m \u001b[0mself\u001b[0m\u001b[1;33m.\u001b[0m\u001b[0m_engine\u001b[0m\u001b[1;33m.\u001b[0m\u001b[0mget_loc\u001b[0m\u001b[1;33m(\u001b[0m\u001b[0mkey\u001b[0m\u001b[1;33m)\u001b[0m\u001b[1;33m\u001b[0m\u001b[0m\n\u001b[0;32m   3064\u001b[0m             \u001b[1;32mexcept\u001b[0m \u001b[0mKeyError\u001b[0m\u001b[1;33m:\u001b[0m\u001b[1;33m\u001b[0m\u001b[0m\n\u001b[1;32m-> 3065\u001b[1;33m                 \u001b[1;32mreturn\u001b[0m \u001b[0mself\u001b[0m\u001b[1;33m.\u001b[0m\u001b[0m_engine\u001b[0m\u001b[1;33m.\u001b[0m\u001b[0mget_loc\u001b[0m\u001b[1;33m(\u001b[0m\u001b[0mself\u001b[0m\u001b[1;33m.\u001b[0m\u001b[0m_maybe_cast_indexer\u001b[0m\u001b[1;33m(\u001b[0m\u001b[0mkey\u001b[0m\u001b[1;33m)\u001b[0m\u001b[1;33m)\u001b[0m\u001b[1;33m\u001b[0m\u001b[0m\n\u001b[0m\u001b[0;32m   3066\u001b[0m \u001b[1;33m\u001b[0m\u001b[0m\n\u001b[0;32m   3067\u001b[0m         \u001b[0mindexer\u001b[0m \u001b[1;33m=\u001b[0m \u001b[0mself\u001b[0m\u001b[1;33m.\u001b[0m\u001b[0mget_indexer\u001b[0m\u001b[1;33m(\u001b[0m\u001b[1;33m[\u001b[0m\u001b[0mkey\u001b[0m\u001b[1;33m]\u001b[0m\u001b[1;33m,\u001b[0m \u001b[0mmethod\u001b[0m\u001b[1;33m=\u001b[0m\u001b[0mmethod\u001b[0m\u001b[1;33m,\u001b[0m \u001b[0mtolerance\u001b[0m\u001b[1;33m=\u001b[0m\u001b[0mtolerance\u001b[0m\u001b[1;33m)\u001b[0m\u001b[1;33m\u001b[0m\u001b[0m\n",
      "\u001b[1;32mpandas\\_libs\\index.pyx\u001b[0m in \u001b[0;36mpandas._libs.index.IndexEngine.get_loc\u001b[1;34m()\u001b[0m\n",
      "\u001b[1;32mpandas\\_libs\\index.pyx\u001b[0m in \u001b[0;36mpandas._libs.index.IndexEngine.get_loc\u001b[1;34m()\u001b[0m\n",
      "\u001b[1;32mpandas\\_libs\\hashtable_class_helper.pxi\u001b[0m in \u001b[0;36mpandas._libs.hashtable.PyObjectHashTable.get_item\u001b[1;34m()\u001b[0m\n",
      "\u001b[1;32mpandas\\_libs\\hashtable_class_helper.pxi\u001b[0m in \u001b[0;36mpandas._libs.hashtable.PyObjectHashTable.get_item\u001b[1;34m()\u001b[0m\n",
      "\u001b[1;31mKeyError\u001b[0m: 'MPG'"
     ]
    }
   ],
   "source": [
    "test_dataset = dataset.drop(train_dataset.index) \n",
    "#将MPG字段移出为标签数据：# 移动MPG油耗效能这一列为真实标签\n",
    "Ytrain_labels = train_dataset.pop('MPG')\n",
    "test_labels = test_dataset.pop('MPG')#统计训练集的各个字段数值的均值和标准差，并完成数据的标准化：# 查看训练集的输入X的统计数据\n",
    "train_stats = train_dataset.describe()\n",
    "train_stats.pop(\"MPG\")\n",
    "train_stats = train_stats.transpose()\n",
    "# 标准化数据\n",
    "def norm(x):\n",
    "    return(x -train_stats['mean']) / train_stats['std']\n",
    "normed_train_data = norm(train_dataset)\n",
    "normed_test_data = norm(test_dataset)#打印出训练集和测试集的大小：\n",
    "print(normed_train_data.shape,train_labels.shape)\n",
    "print(normed_test_data.shape, test_labels.shape)#(314, 9) (314,)# 训练集共314行，输入特征长度为9,标签用一个标量表示(78, 9) (78,)# 测试集共78行，输入特征长度为9,标签用一个标量表示利用切分的训练集数据构建数据集对象：\n",
    "train_db = tf.data.Dataset.from_tensor_slices((normed_train_data.values, train_labels.values))# 构建Dataset对象\n",
    "train_db = train_db.shuffle(100).batch(32)# 随机打散，批量化"
   ]
  },
  {
   "cell_type": "code",
   "execution_count": null,
   "metadata": {},
   "outputs": [],
   "source": [
    "class Network(keras.Model):\n",
    "    def __init__(self):\n",
    "        super(Network,self).__init__()\n",
    "        self.fc1=layers.Dense(64,activaion='relu')\n",
    "        self.fc2=layers.Dense(64,activation='relu')\n",
    "        self.fc3=layers.Dense(1)\n",
    "    def call(self,inputs,training=None,mask=None):\n",
    "        x=self.fc1(inputs)\n",
    "        x=self.fc2(x)\n",
    "        x=self.fc3(x)\n",
    "        \n",
    "        return x"
   ]
  },
  {
   "cell_type": "code",
   "execution_count": null,
   "metadata": {},
   "outputs": [],
   "source": [
    "model=Network()\n",
    "model.build(input_shape=(4,9))\n",
    "model.summary()\n",
    "optimizer=tf.keras.optimizers.RMSprop(0.001)"
   ]
  },
  {
   "cell_type": "code",
   "execution_count": 7,
   "metadata": {},
   "outputs": [
    {
     "ename": "NameError",
     "evalue": "name 'train_db' is not defined",
     "output_type": "error",
     "traceback": [
      "\u001b[1;31m---------------------------------------------------------------------------\u001b[0m",
      "\u001b[1;31mNameError\u001b[0m                                 Traceback (most recent call last)",
      "\u001b[1;32m<ipython-input-7-15922ee64f66>\u001b[0m in \u001b[0;36m<module>\u001b[1;34m()\u001b[0m\n\u001b[0;32m      1\u001b[0m \u001b[1;32mfor\u001b[0m \u001b[0mepoch\u001b[0m \u001b[1;32min\u001b[0m \u001b[0mrange\u001b[0m\u001b[1;33m(\u001b[0m\u001b[1;36m200\u001b[0m\u001b[1;33m)\u001b[0m\u001b[1;33m:\u001b[0m\u001b[1;33m\u001b[0m\u001b[0m\n\u001b[1;32m----> 2\u001b[1;33m     \u001b[1;32mfor\u001b[0m \u001b[0mstep\u001b[0m\u001b[1;33m,\u001b[0m\u001b[1;33m(\u001b[0m\u001b[0mx\u001b[0m\u001b[1;33m,\u001b[0m\u001b[0my\u001b[0m\u001b[1;33m)\u001b[0m \u001b[1;32min\u001b[0m \u001b[0menumerate\u001b[0m\u001b[1;33m(\u001b[0m\u001b[0mtrain_db\u001b[0m\u001b[1;33m)\u001b[0m\u001b[1;33m:\u001b[0m\u001b[1;33m\u001b[0m\u001b[0m\n\u001b[0m\u001b[0;32m      3\u001b[0m         \u001b[1;32mwith\u001b[0m \u001b[0mtf\u001b[0m\u001b[1;33m.\u001b[0m\u001b[0mGradientTape\u001b[0m\u001b[1;33m(\u001b[0m\u001b[1;33m)\u001b[0m \u001b[1;32mas\u001b[0m \u001b[0mtape\u001b[0m\u001b[1;33m:\u001b[0m\u001b[1;33m\u001b[0m\u001b[0m\n\u001b[0;32m      4\u001b[0m             \u001b[0mout\u001b[0m\u001b[1;33m=\u001b[0m\u001b[0mmodel\u001b[0m\u001b[1;33m(\u001b[0m\u001b[0mx\u001b[0m\u001b[1;33m)\u001b[0m\u001b[1;33m\u001b[0m\u001b[0m\n\u001b[0;32m      5\u001b[0m             \u001b[0mloss\u001b[0m\u001b[1;33m=\u001b[0m\u001b[0mtf\u001b[0m\u001b[1;33m.\u001b[0m\u001b[0mreduce_mean\u001b[0m\u001b[1;33m(\u001b[0m\u001b[0mlosses\u001b[0m\u001b[1;33m.\u001b[0m\u001b[0mMSE\u001b[0m\u001b[1;33m(\u001b[0m\u001b[0my\u001b[0m\u001b[1;33m,\u001b[0m\u001b[0mout\u001b[0m\u001b[1;33m)\u001b[0m\u001b[1;33m)\u001b[0m\u001b[1;33m\u001b[0m\u001b[0m\n",
      "\u001b[1;31mNameError\u001b[0m: name 'train_db' is not defined"
     ]
    }
   ],
   "source": [
    "for epoch in range(200):\n",
    "    for step,(x,y) in enumerate(train_db):\n",
    "        with tf.GradientTape() as tape:\n",
    "            out=model(x)\n",
    "            loss=tf.reduce_mean(losses.MSE(y,out))\n",
    "            mae_loss=tf.reduce_mean(losses.MAE(y,out))\n",
    "            if step %10==0:\n",
    "                print(epoch,step,float(loss))\n",
    "            grads=tape.gradient(loss,model.trainable_variable)\n",
    "            optimizer.apply_gradients(zip(grads),model.trainable_variables)"
   ]
  },
  {
   "cell_type": "code",
   "execution_count": null,
   "metadata": {},
   "outputs": [],
   "source": []
  }
 ],
 "metadata": {
  "kernelspec": {
   "display_name": "Python 3",
   "language": "python",
   "name": "python3"
  },
  "language_info": {
   "codemirror_mode": {
    "name": "ipython",
    "version": 3
   },
   "file_extension": ".py",
   "mimetype": "text/x-python",
   "name": "python",
   "nbconvert_exporter": "python",
   "pygments_lexer": "ipython3",
   "version": "3.6.5"
  }
 },
 "nbformat": 4,
 "nbformat_minor": 2
}
