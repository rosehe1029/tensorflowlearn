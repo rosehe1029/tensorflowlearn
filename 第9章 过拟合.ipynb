{
 "cells": [
  {
   "cell_type": "code",
   "execution_count": 1,
   "metadata": {},
   "outputs": [],
   "source": [
    "import tensorflow as tf\n",
    "\n",
    "w1=tf.random.normal([4,3])\n",
    "w2=tf.random.normal([4,2])\n",
    "\n",
    "loss_reg=tf.reduce_sum(tf.math.abs(w1))+tf.reduce_sum(tf.math.abs(w2))\n"
   ]
  },
  {
   "cell_type": "code",
   "execution_count": 2,
   "metadata": {},
   "outputs": [],
   "source": [
    "loss_reg=tf.reduce_sum(tf.square(w1))+tf.reduce_sum(tf.square(w2))"
   ]
  },
  {
   "cell_type": "code",
   "execution_count": 3,
   "metadata": {},
   "outputs": [
    {
     "ename": "NameError",
     "evalue": "name 'x' is not defined",
     "output_type": "error",
     "traceback": [
      "\u001b[1;31m---------------------------------------------------------------------------\u001b[0m",
      "\u001b[1;31mNameError\u001b[0m                                 Traceback (most recent call last)",
      "\u001b[1;32m<ipython-input-3-6a453e966df4>\u001b[0m in \u001b[0;36m<module>\u001b[1;34m()\u001b[0m\n\u001b[1;32m----> 1\u001b[1;33m \u001b[0mx\u001b[0m\u001b[1;33m\u001b[0m\u001b[0m\n\u001b[0m\u001b[0;32m      2\u001b[0m \u001b[0mx\u001b[0m\u001b[1;33m=\u001b[0m\u001b[0mtf\u001b[0m\u001b[1;33m.\u001b[0m\u001b[0mnn\u001b[0m\u001b[1;33m.\u001b[0m\u001b[0mdropout\u001b[0m\u001b[1;33m(\u001b[0m\u001b[0mx\u001b[0m\u001b[1;33m,\u001b[0m\u001b[0mrate\u001b[0m\u001b[1;33m=\u001b[0m\u001b[1;36m0.5\u001b[0m\u001b[1;33m)\u001b[0m\u001b[1;33m\u001b[0m\u001b[0m\n",
      "\u001b[1;31mNameError\u001b[0m: name 'x' is not defined"
     ]
    }
   ],
   "source": [
    "x\n",
    "x=tf.nn.dropout(x,rate=0.5)"
   ]
  },
  {
   "cell_type": "code",
   "execution_count": null,
   "metadata": {},
   "outputs": [],
   "source": [
    "model.add(layers.Dropout(rate=0.5))"
   ]
  },
  {
   "cell_type": "code",
   "execution_count": null,
   "metadata": {},
   "outputs": [],
   "source": [
    "#数据增强"
   ]
  },
  {
   "cell_type": "code",
   "execution_count": null,
   "metadata": {},
   "outputs": [],
   "source": [
    "def preprocess(x,y):\n",
    "    x=tf.io.read_file(x)\n",
    "    x=tf.image.decode_jpeg(x,channels=3)\n",
    "    x=tf.image.resize(x,[244,244])"
   ]
  },
  {
   "cell_type": "code",
   "execution_count": null,
   "metadata": {},
   "outputs": [],
   "source": [
    "x=tf.image.rot90(x,2)\n"
   ]
  },
  {
   "cell_type": "code",
   "execution_count": null,
   "metadata": {},
   "outputs": [],
   "source": [
    "x=tf.image.random_flip_left_right(x)\n",
    "x=tf.image.random_flip_up_down(x)"
   ]
  },
  {
   "cell_type": "code",
   "execution_count": null,
   "metadata": {},
   "outputs": [],
   "source": [
    "x=tf.image.resize(x,[244,244])\n",
    "x=tf.image.random_crop(x,[224,224,3])"
   ]
  },
  {
   "cell_type": "code",
   "execution_count": null,
   "metadata": {},
   "outputs": [],
   "source": [
    "from sklearn.datasets import make_moons"
   ]
  },
  {
   "cell_type": "code",
   "execution_count": null,
   "metadata": {},
   "outputs": [],
   "source": [
    "X,y=make_moons(n_samples=N_SAMPLES,noise=0.25,random_state=100)\n",
    "X_train,X_test,y_train,y_test=train_test_split(X,y,test_size=TEST_SIZE,random_state=42)\n",
    "\n"
   ]
  },
  {
   "cell_type": "code",
   "execution_count": 5,
   "metadata": {},
   "outputs": [
    {
     "ename": "SyntaxError",
     "evalue": "invalid syntax (<ipython-input-5-629f6ecc4c28>, line 11)",
     "output_type": "error",
     "traceback": [
      "\u001b[1;36m  File \u001b[1;32m\"<ipython-input-5-629f6ecc4c28>\"\u001b[1;36m, line \u001b[1;32m11\u001b[0m\n\u001b[1;33m    mscatter[X[:,0],X[:,1],c=y.raval(),s=20,camp=plt.cm.Sepctral,edgecolors='none',m=markers]\u001b[0m\n\u001b[1;37m                            ^\u001b[0m\n\u001b[1;31mSyntaxError\u001b[0m\u001b[1;31m:\u001b[0m invalid syntax\n"
     ]
    }
   ],
   "source": [
    "def make_plot(X,y,plot_name,file_name,XX=None,YY=None,preds=None):\n",
    "    plt.figure()\n",
    "    axes=plt.gca()\n",
    "    axes.set_xlim([x_min,x_max])\n",
    "    axes.set_ylim([y_min,y_max])\n",
    "    axes.set(xlabel='$x_1$',ylabel='$x_2$')\n",
    "    if (XX is not None and YY is not None and preds is not None):\n",
    "        plt.contourf(XX,YY,preds.reshape(XX.shape),25,alpha=0.08,cmap=cm.Spectral)\n",
    "        plt.contour(XX,YY,preds.reshpe(XX.shape),levels=[.5],cmap=\"Greys\",vmin=0,vmax=.6)\n",
    "    markers=['o'if i==1 else 's' for i in y.raval()]\n",
    "    mscatter[X[:,0],X[:,1],c=y.raval(),s=20,camp=plt.cm.Sepctral,edgecolors='none',m=markers]\n",
    "    plt.savefig(OUTPUT_DIR+'/'+file_name)\n",
    "     "
   ]
  },
  {
   "cell_type": "code",
   "execution_count": 6,
   "metadata": {},
   "outputs": [
    {
     "ename": "NameError",
     "evalue": "name 'make_plot' is not defined",
     "output_type": "error",
     "traceback": [
      "\u001b[1;31m---------------------------------------------------------------------------\u001b[0m",
      "\u001b[1;31mNameError\u001b[0m                                 Traceback (most recent call last)",
      "\u001b[1;32m<ipython-input-6-bf1e0303a364>\u001b[0m in \u001b[0;36m<module>\u001b[1;34m()\u001b[0m\n\u001b[1;32m----> 1\u001b[1;33m \u001b[0mmake_plot\u001b[0m\u001b[1;33m(\u001b[0m\u001b[0mX\u001b[0m\u001b[1;33m,\u001b[0m\u001b[0my\u001b[0m\u001b[1;33m,\u001b[0m\u001b[1;32mNone\u001b[0m\u001b[1;33m,\u001b[0m\u001b[1;34m\"dataset.svg\"\u001b[0m\u001b[1;33m)\u001b[0m\u001b[1;33m\u001b[0m\u001b[0m\n\u001b[0m",
      "\u001b[1;31mNameError\u001b[0m: name 'make_plot' is not defined"
     ]
    }
   ],
   "source": [
    "make_plot(X,y,None,\"dataset.svg\")"
   ]
  },
  {
   "cell_type": "code",
   "execution_count": 7,
   "metadata": {},
   "outputs": [
    {
     "ename": "IndentationError",
     "evalue": "unindent does not match any outer indentation level (<ipython-input-7-5201dcac774b>, line 6)",
     "output_type": "error",
     "traceback": [
      "\u001b[1;36m  File \u001b[1;32m\"<ipython-input-7-5201dcac774b>\"\u001b[1;36m, line \u001b[1;32m6\u001b[0m\n\u001b[1;33m    model.add(Dense(1, activation='sigmoid'))#创建最末层model.compile(loss='binary_crossentropy', optimizer='adam', metrics=['accuracy'])#模型装配与训练history = model.fit(X_train, y_train, epochs=N_EPOCHS, verbose=1)# 绘制不同层数的网络决策边界曲线preds = model.predict_classes(np.c_[XX.ravel(), YY.ravel()])title = \"网络层数({})\".format(n)file = \"网络容量%f.png\"%(2+n*1)make_plot(X_train, y_train, title, file, XX, YY, pred\u001b[0m\n\u001b[1;37m                                                                                                                                                                                                                                                                                                                                                                                                      ^\u001b[0m\n\u001b[1;31mIndentationError\u001b[0m\u001b[1;31m:\u001b[0m unindent does not match any outer indentation level\n"
     ]
    }
   ],
   "source": [
    "for n in range(5):\n",
    "    model=Sequential()\n",
    "    model.add(Dense(8,input_dim=2,activation='relu'))\n",
    "    for _ in range(n):\n",
    "        model.add(Dense(1,activation='sigmoid'))\n",
    "  model.add(Dense(1, activation='sigmoid'))#创建最末层model.compile(loss='binary_crossentropy', optimizer='adam', metrics=['accuracy'])#模型装配与训练history = model.fit(X_train, y_train, epochs=N_EPOCHS, verbose=1)# 绘制不同层数的网络决策边界曲线preds = model.predict_classes(np.c_[XX.ravel(), YY.ravel()])title = \"网络层数({})\".format(n)file = \"网络容量%f.png\"%(2+n*1)make_plot(X_train, y_train, title, file, XX, YY, pred"
   ]
  },
  {
   "cell_type": "code",
   "execution_count": 8,
   "metadata": {},
   "outputs": [
    {
     "ename": "NameError",
     "evalue": "name 'Sequential' is not defined",
     "output_type": "error",
     "traceback": [
      "\u001b[1;31m---------------------------------------------------------------------------\u001b[0m",
      "\u001b[1;31mNameError\u001b[0m                                 Traceback (most recent call last)",
      "\u001b[1;32m<ipython-input-8-27a333106882>\u001b[0m in \u001b[0;36m<module>\u001b[1;34m()\u001b[0m\n\u001b[0;32m      1\u001b[0m \u001b[1;32mfor\u001b[0m \u001b[0mn\u001b[0m \u001b[1;32min\u001b[0m \u001b[0mrange\u001b[0m\u001b[1;33m(\u001b[0m\u001b[1;36m5\u001b[0m\u001b[1;33m)\u001b[0m\u001b[1;33m:\u001b[0m\u001b[1;33m\u001b[0m\u001b[0m\n\u001b[1;32m----> 2\u001b[1;33m     \u001b[0mmodel\u001b[0m \u001b[1;33m=\u001b[0m \u001b[0mSequential\u001b[0m\u001b[1;33m(\u001b[0m\u001b[1;33m)\u001b[0m\u001b[1;31m# 创建#创建第一层model.add(Dense(8, input_dim=2,activation='relu'))counter = 0for_ inrange(5): # 网络层数固定为5model.add(Dense(64, activation='relu'))ifcounter < n: # 添加n个Dropout层counter += 1model.add(layers.Dropout(rate=0.5))            model.add(Dense(1, activation='sigmoid')) # 输出层model.compile(loss='binary_crossentropy', optimizer='adam', metrics=['accuracy'])#模型装配# 训练history = model.fit(X_train, y_train, epochs=N_EPOCHS, verbose=1)# 绘制不同Dropout层数的决策边界曲线preds = model.predict_classes(np.c_[XX.ravel(), YY.ravel()])title = \"Dropout({})\".format(n)file = \"Dropout%f.png\"%(n)make_plot(X_train, y_train, title, file, XX, YY, preds)\u001b[0m\u001b[1;33m\u001b[0m\u001b[0m\n\u001b[0m",
      "\u001b[1;31mNameError\u001b[0m: name 'Sequential' is not defined"
     ]
    }
   ],
   "source": [
    "for n in range(5):\n",
    "    model = Sequential()# 创建#创建第一层model.add(Dense(8, input_dim=2,activation='relu'))counter = 0for_ inrange(5): # 网络层数固定为5model.add(Dense(64, activation='relu'))ifcounter < n: # 添加n个Dropout层counter += 1model.add(layers.Dropout(rate=0.5))            model.add(Dense(1, activation='sigmoid')) # 输出层model.compile(loss='binary_crossentropy', optimizer='adam', metrics=['accuracy'])#模型装配# 训练history = model.fit(X_train, y_train, epochs=N_EPOCHS, verbose=1)# 绘制不同Dropout层数的决策边界曲线preds = model.predict_classes(np.c_[XX.ravel(), YY.ravel()])title = \"Dropout({})\".format(n)file = \"Dropout%f.png\"%(n)make_plot(X_train, y_train, title, file, XX, YY, preds)"
   ]
  },
  {
   "cell_type": "code",
   "execution_count": 9,
   "metadata": {},
   "outputs": [
    {
     "ename": "SyntaxError",
     "evalue": "invalid syntax (<ipython-input-9-ec9f5916d4d6>, line 1)",
     "output_type": "error",
     "traceback": [
      "\u001b[1;36m  File \u001b[1;32m\"<ipython-input-9-ec9f5916d4d6>\"\u001b[1;36m, line \u001b[1;32m1\u001b[0m\n\u001b[1;33m    defbuild_model_with_regularization(_lambda):# 创建带正则化项的神经网络model = Sequential()model.add(Dense(8, input_dim=2,activation='relu'))# 不带正则化项model.add(Dense(256, activation='relu',# 带L2正则化项kernel_regularizer=regularizers.l2(_lambda)))model.add(Dense(256, activation='relu',# 带L2正则化项kernel_regularizer=regularizers.l2(_lambda)))model.add(Dense(256, activation='relu',# 带L2正则化项kernel_regularizer=regularizers.l2(_lambda)))# 输出层model.add(Dense(1, activation='sigmoid'))model.compile(loss='binary_crossentropy', optimizer='adam', metrics=['accuracy'])# 模型装配returnmode\u001b[0m\n\u001b[1;37m                                                                                                                                                                                                                                                                                                                                                                                                                                                                                                                                                                                  ^\u001b[0m\n\u001b[1;31mSyntaxError\u001b[0m\u001b[1;31m:\u001b[0m invalid syntax\n"
     ]
    }
   ],
   "source": [
    "defbuild_model_with_regularization(_lambda):# 创建带正则化项的神经网络model = Sequential()model.add(Dense(8, input_dim=2,activation='relu'))# 不带正则化项model.add(Dense(256, activation='relu',# 带L2正则化项kernel_regularizer=regularizers.l2(_lambda)))model.add(Dense(256, activation='relu',# 带L2正则化项kernel_regularizer=regularizers.l2(_lambda)))model.add(Dense(256, activation='relu',# 带L2正则化项kernel_regularizer=regularizers.l2(_lambda)))# 输出层model.add(Dense(1, activation='sigmoid'))model.compile(loss='binary_crossentropy', optimizer='adam', metrics=['accuracy'])# 模型装配returnmode"
   ]
  },
  {
   "cell_type": "code",
   "execution_count": null,
   "metadata": {},
   "outputs": [],
   "source": []
  }
 ],
 "metadata": {
  "kernelspec": {
   "display_name": "Python 3",
   "language": "python",
   "name": "python3"
  },
  "language_info": {
   "codemirror_mode": {
    "name": "ipython",
    "version": 3
   },
   "file_extension": ".py",
   "mimetype": "text/x-python",
   "name": "python",
   "nbconvert_exporter": "python",
   "pygments_lexer": "ipython3",
   "version": "3.6.5"
  }
 },
 "nbformat": 4,
 "nbformat_minor": 2
}
