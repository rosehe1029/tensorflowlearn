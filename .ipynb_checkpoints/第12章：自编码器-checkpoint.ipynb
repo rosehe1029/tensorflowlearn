{
 "cells": [
  {
   "cell_type": "code",
   "execution_count": 8,
   "metadata": {},
   "outputs": [
    {
     "ename": "ImportError",
     "evalue": "cannot import name 'layers'",
     "output_type": "error",
     "traceback": [
      "\u001b[1;31m---------------------------------------------------------------------------\u001b[0m",
      "\u001b[1;31mImportError\u001b[0m                               Traceback (most recent call last)",
      "\u001b[1;32m<ipython-input-8-4cc0d76d4b12>\u001b[0m in \u001b[0;36m<module>\u001b[1;34m()\u001b[0m\n\u001b[0;32m      2\u001b[0m \u001b[1;32mimport\u001b[0m \u001b[0mtensorflow\u001b[0m \u001b[1;32mas\u001b[0m \u001b[0mtf\u001b[0m\u001b[1;33m\u001b[0m\u001b[0m\n\u001b[0;32m      3\u001b[0m \u001b[1;32mimport\u001b[0m \u001b[0mkeras\u001b[0m\u001b[1;33m\u001b[0m\u001b[0m\n\u001b[1;32m----> 4\u001b[1;33m \u001b[1;32mfrom\u001b[0m  \u001b[0mkeras\u001b[0m\u001b[1;33m.\u001b[0m\u001b[0mlayers\u001b[0m  \u001b[1;32mimport\u001b[0m \u001b[0mlayers\u001b[0m\u001b[1;33m\u001b[0m\u001b[0m\n\u001b[0m",
      "\u001b[1;31mImportError\u001b[0m: cannot import name 'layers'"
     ]
    }
   ],
   "source": [
    "#VAE实战\n",
    "import tensorflow as tf\n",
    "import keras"
   ]
  },
  {
   "cell_type": "code",
   "execution_count": 6,
   "metadata": {},
   "outputs": [],
   "source": [
    "class VAE(keras.Model):\n",
    "    def __init__(self):\n",
    "        super(VAE,self).__init__()\n",
    "        #Encoder网络\n",
    "        self.fc1=layers.Dense(128)\n",
    "        self.fc2=layers.Dense(z_dim)\n",
    "        self.fc3=layers.Dense(z_dim)\n",
    "        #Decoder网络\n",
    "        self.fc4=layers.Dense(128)\n",
    "        self.fc5=layers.Dense(784)\n",
    "    \n",
    "    def encoder(self,x):\n",
    "        h=tf.nn.relu(self.fc1(x))\n",
    "        mu=self.fc2(h)\n",
    "        log_var=self.fc3(h)\n",
    "        return mu,log_var\n",
    "    \n",
    "    def decoder(self,z):\n",
    "        out=tf.nn.relu(self.fc4(z))\n",
    "        out=self.fc5(out)\n",
    "        return out\n",
    "    \n",
    "    def call(self,inputs,training=None):\n",
    "        mu,log_val=self.encoder(inputs)\n",
    "        z=self.reparameterize(mu,log_var)\n",
    "        x_hat=self.decoder(z)\n",
    "        return x_hat,mu,log_var\n",
    "    def reparameterize(self,mu,log_var):\n",
    "        eps=tf.random.normal(log_var.shape)\n",
    "        std=tf.exp(log_var)**0.5\n",
    "        z=mu+std+eps\n",
    "        return z"
   ]
  },
  {
   "cell_type": "code",
   "execution_count": 7,
   "metadata": {},
   "outputs": [
    {
     "ename": "NameError",
     "evalue": "name 'layers' is not defined",
     "output_type": "error",
     "traceback": [
      "\u001b[1;31m---------------------------------------------------------------------------\u001b[0m",
      "\u001b[1;31mNameError\u001b[0m                                 Traceback (most recent call last)",
      "\u001b[1;32m<ipython-input-7-242a2b79f67d>\u001b[0m in \u001b[0;36m<module>\u001b[1;34m()\u001b[0m\n\u001b[1;32m----> 1\u001b[1;33m \u001b[0mmodel\u001b[0m\u001b[1;33m=\u001b[0m\u001b[0mVAE\u001b[0m\u001b[1;33m(\u001b[0m\u001b[1;33m)\u001b[0m\u001b[1;33m\u001b[0m\u001b[0m\n\u001b[0m\u001b[0;32m      2\u001b[0m \u001b[0mmodel\u001b[0m\u001b[1;33m.\u001b[0m\u001b[0mbuild\u001b[0m\u001b[1;33m(\u001b[0m\u001b[0minput_shape\u001b[0m\u001b[1;33m=\u001b[0m\u001b[1;33m(\u001b[0m\u001b[1;36m4\u001b[0m\u001b[1;33m,\u001b[0m\u001b[1;36m784\u001b[0m\u001b[1;33m)\u001b[0m\u001b[1;33m)\u001b[0m\u001b[1;33m\u001b[0m\u001b[0m\n\u001b[0;32m      3\u001b[0m \u001b[1;33m\u001b[0m\u001b[0m\n\u001b[0;32m      4\u001b[0m \u001b[0moptimizer\u001b[0m\u001b[1;33m=\u001b[0m\u001b[0mtf\u001b[0m\u001b[1;33m.\u001b[0m\u001b[0moptimizers\u001b[0m\u001b[1;33m.\u001b[0m\u001b[0mAdam\u001b[0m\u001b[1;33m(\u001b[0m\u001b[0mlr\u001b[0m\u001b[1;33m)\u001b[0m\u001b[1;33m\u001b[0m\u001b[0m\n",
      "\u001b[1;32m<ipython-input-6-31f2f71b7b9f>\u001b[0m in \u001b[0;36m__init__\u001b[1;34m(self)\u001b[0m\n\u001b[0;32m      3\u001b[0m         \u001b[0msuper\u001b[0m\u001b[1;33m(\u001b[0m\u001b[0mVAE\u001b[0m\u001b[1;33m,\u001b[0m\u001b[0mself\u001b[0m\u001b[1;33m)\u001b[0m\u001b[1;33m.\u001b[0m\u001b[0m__init__\u001b[0m\u001b[1;33m(\u001b[0m\u001b[1;33m)\u001b[0m\u001b[1;33m\u001b[0m\u001b[0m\n\u001b[0;32m      4\u001b[0m         \u001b[1;31m#Encoder网络\u001b[0m\u001b[1;33m\u001b[0m\u001b[1;33m\u001b[0m\u001b[0m\n\u001b[1;32m----> 5\u001b[1;33m         \u001b[0mself\u001b[0m\u001b[1;33m.\u001b[0m\u001b[0mfc1\u001b[0m\u001b[1;33m=\u001b[0m\u001b[0mlayers\u001b[0m\u001b[1;33m.\u001b[0m\u001b[0mDense\u001b[0m\u001b[1;33m(\u001b[0m\u001b[1;36m128\u001b[0m\u001b[1;33m)\u001b[0m\u001b[1;33m\u001b[0m\u001b[0m\n\u001b[0m\u001b[0;32m      6\u001b[0m         \u001b[0mself\u001b[0m\u001b[1;33m.\u001b[0m\u001b[0mfc2\u001b[0m\u001b[1;33m=\u001b[0m\u001b[0mlayers\u001b[0m\u001b[1;33m.\u001b[0m\u001b[0mDense\u001b[0m\u001b[1;33m(\u001b[0m\u001b[0mz_dim\u001b[0m\u001b[1;33m)\u001b[0m\u001b[1;33m\u001b[0m\u001b[0m\n\u001b[0;32m      7\u001b[0m         \u001b[0mself\u001b[0m\u001b[1;33m.\u001b[0m\u001b[0mfc3\u001b[0m\u001b[1;33m=\u001b[0m\u001b[0mlayers\u001b[0m\u001b[1;33m.\u001b[0m\u001b[0mDense\u001b[0m\u001b[1;33m(\u001b[0m\u001b[0mz_dim\u001b[0m\u001b[1;33m)\u001b[0m\u001b[1;33m\u001b[0m\u001b[0m\n",
      "\u001b[1;31mNameError\u001b[0m: name 'layers' is not defined"
     ]
    }
   ],
   "source": [
    "model=VAE()\n",
    "model.build(input_shape=(4,784))\n",
    "\n",
    "optimizer=tf.optimizers.Adam(lr)\n"
   ]
  },
  {
   "cell_type": "raw",
   "metadata": {},
   "source": [
    "#创建网络对象model=VAE()model.build(input_shape=(4,784))#优化器optimizer=tf.optimizers.Adam(lr)forepochinrange(100):#训练100个Epochforstep,xinenumerate(train_db):#遍历训练集#打平，[b,28,28]=>[b,784]x=tf.reshape(x,[-1,784])#构建梯度记录器withtf.GradientTape()astape:#前向计算x_rec_logits,mu,log_var=model(x)#损失计算rec_loss=tf.nn.sigmoid_cross_entropy_with_logits(labels=x,logits=x_rec_logits)rec_loss=tf.reduce_sum(rec_loss)/x.shape[0]#计算KL散度N(mu,var)VSN(0,1)#公式参考：https://stats.stackexchange.com/questions/7440/kl-divergence-between-two-univariate-gaussianskl_div=-0.5*(log_var+1-mu**2-tf.exp(log_var))kl_div=tf.reduce_sum(kl_div)/x.shape[0]#合并误差项loss=rec_loss+1.*kl_div#自动求导grads=tape.gradient(loss,model.trainable_variables)#自动更新"
   ]
  },
  {
   "cell_type": "markdown",
   "metadata": {},
   "source": [
    "optimizer.apply_gradients(zip(grads,model.trainable_variables))ifstep%100==0:#打印训练误差print(epoch,step,'kldiv:',float(kl_div),'recloss:',float(rec_loss))"
   ]
  },
  {
   "cell_type": "raw",
   "metadata": {},
   "source": [
    "图片生成只利用到解码器网络，首先从先验分布𝒩(0,𝐼)中采样获得隐向量，再通过解码器获得图片向量，最后Reshape为图片矩阵：#测试生成效果，从正态分布随机采样zz=tf.random.normal((batchsz,z_dim))logits=model.decoder(z)#仅通过解码器生成图片x_hat=tf.sigmoid(logits)#转换为像素范围x_hat=tf.reshape(x_hat,[-1,28,28]).numpy()*255.x_hat=x_hat.astype(np.uint8)save_images(x_hat,'vae_images/epoch_%d_sampled.png'%epoch)#重建图片，从测试集采样图片x=next(iter(test_db))logits,_,_=model(tf.reshape(x,[-1,784]))#打平并送入自编码器x_hat=tf.sigmoid(logits)#将输出转换为像素值#恢复为28x28,[b,784]=>[b,28,28]x_hat=tf.reshape(x_hat,[-1,28,28])#输入的前50张+重建的前50张图片合并，[b,28,28]=>[2b,28,28]x_concat=tf.concat([x[:50],x_hat[:50]],axis=0)x_concat=x_concat.numpy()*255.#恢复为0~255范围x_concat=x_concat.astype(np.uint8)save_images(x_concat,'vae_images/epoch_%d_rec.png'%epoch"
   ]
  },
  {
   "cell_type": "code",
   "execution_count": null,
   "metadata": {},
   "outputs": [],
   "source": []
  },
  {
   "cell_type": "code",
   "execution_count": null,
   "metadata": {},
   "outputs": [],
   "source": []
  },
  {
   "cell_type": "code",
   "execution_count": null,
   "metadata": {},
   "outputs": [],
   "source": []
  },
  {
   "cell_type": "code",
   "execution_count": null,
   "metadata": {},
   "outputs": [],
   "source": []
  },
  {
   "cell_type": "code",
   "execution_count": null,
   "metadata": {},
   "outputs": [],
   "source": []
  },
  {
   "cell_type": "code",
   "execution_count": null,
   "metadata": {},
   "outputs": [],
   "source": []
  },
  {
   "cell_type": "code",
   "execution_count": null,
   "metadata": {},
   "outputs": [],
   "source": []
  },
  {
   "cell_type": "code",
   "execution_count": null,
   "metadata": {},
   "outputs": [],
   "source": []
  },
  {
   "cell_type": "code",
   "execution_count": null,
   "metadata": {},
   "outputs": [],
   "source": []
  },
  {
   "cell_type": "code",
   "execution_count": null,
   "metadata": {},
   "outputs": [],
   "source": []
  },
  {
   "cell_type": "code",
   "execution_count": null,
   "metadata": {},
   "outputs": [],
   "source": []
  },
  {
   "cell_type": "code",
   "execution_count": null,
   "metadata": {},
   "outputs": [],
   "source": []
  },
  {
   "cell_type": "code",
   "execution_count": null,
   "metadata": {},
   "outputs": [],
   "source": []
  },
  {
   "cell_type": "code",
   "execution_count": null,
   "metadata": {},
   "outputs": [],
   "source": []
  }
 ],
 "metadata": {
  "kernelspec": {
   "display_name": "Python 3",
   "language": "python",
   "name": "python3"
  },
  "language_info": {
   "codemirror_mode": {
    "name": "ipython",
    "version": 3
   },
   "file_extension": ".py",
   "mimetype": "text/x-python",
   "name": "python",
   "nbconvert_exporter": "python",
   "pygments_lexer": "ipython3",
   "version": "3.6.5"
  }
 },
 "nbformat": 4,
 "nbformat_minor": 2
}
